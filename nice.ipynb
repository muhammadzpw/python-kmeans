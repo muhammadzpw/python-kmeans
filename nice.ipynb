{
 "metadata": {
  "language_info": {
   "codemirror_mode": {
    "name": "ipython",
    "version": 3
   },
   "file_extension": ".py",
   "mimetype": "text/x-python",
   "name": "python",
   "nbconvert_exporter": "python",
   "pygments_lexer": "ipython3",
   "version": "3.7.3-final"
  },
  "orig_nbformat": 2,
  "kernelspec": {
   "name": "python37364bitnlpvirtualenva8ae157c16b348dbbe9ce98870f12218",
   "display_name": "Python 3.7.3 64-bit ('nlp': virtualenv)"
  }
 },
 "nbformat": 4,
 "nbformat_minor": 2,
 "cells": [
  {
   "cell_type": "code",
   "execution_count": 1,
   "metadata": {},
   "outputs": [],
   "source": [
    "XA = [1,2,9,3,5,1,2]\n",
    "XB = [2,2,-9,3,3,1,4]"
   ]
  },
  {
   "cell_type": "code",
   "execution_count": 2,
   "metadata": {
    "tags": []
   },
   "outputs": [
    {
     "output_type": "stream",
     "name": "stdout",
     "text": "True\nTrue\nTrue\n"
    }
   ],
   "source": [
    "from scipy.spatial.distance import euclidean as ec, cityblock as man, cosine as cos\n",
    "from distance import euclidean, manhattan, cosine\n",
    "\n",
    "print(ec(XA,XB) == euclidean(XA, XB))\n",
    "print(man(XA,XB) == manhattan(XA, XB))\n",
    "print(cos(XA, XB) == cosine(XA, XB))"
   ]
  },
  {
   "cell_type": "code",
   "execution_count": 3,
   "metadata": {},
   "outputs": [],
   "source": [
    "import numpy as np"
   ]
  },
  {
   "cell_type": "code",
   "execution_count": 4,
   "metadata": {},
   "outputs": [
    {
     "output_type": "execute_result",
     "data": {
      "text/plain": "3.2857142857142856"
     },
     "metadata": {},
     "execution_count": 4
    }
   ],
   "source": [
    "np.average(XA)"
   ]
  },
  {
   "cell_type": "code",
   "execution_count": 5,
   "metadata": {},
   "outputs": [
    {
     "output_type": "execute_result",
     "data": {
      "text/plain": "   f0  f1  sum\n0   1   2    3\n2   1   5    6\n1   3   4    7\n5   4   3    7\n3   8   9   17\n4  10   7   17\n6  11   8   19",
      "text/html": "<div>\n<style scoped>\n    .dataframe tbody tr th:only-of-type {\n        vertical-align: middle;\n    }\n\n    .dataframe tbody tr th {\n        vertical-align: top;\n    }\n\n    .dataframe thead th {\n        text-align: right;\n    }\n</style>\n<table border=\"1\" class=\"dataframe\">\n  <thead>\n    <tr style=\"text-align: right;\">\n      <th></th>\n      <th>f0</th>\n      <th>f1</th>\n      <th>sum</th>\n    </tr>\n  </thead>\n  <tbody>\n    <tr>\n      <th>0</th>\n      <td>1</td>\n      <td>2</td>\n      <td>3</td>\n    </tr>\n    <tr>\n      <th>2</th>\n      <td>1</td>\n      <td>5</td>\n      <td>6</td>\n    </tr>\n    <tr>\n      <th>1</th>\n      <td>3</td>\n      <td>4</td>\n      <td>7</td>\n    </tr>\n    <tr>\n      <th>5</th>\n      <td>4</td>\n      <td>3</td>\n      <td>7</td>\n    </tr>\n    <tr>\n      <th>3</th>\n      <td>8</td>\n      <td>9</td>\n      <td>17</td>\n    </tr>\n    <tr>\n      <th>4</th>\n      <td>10</td>\n      <td>7</td>\n      <td>17</td>\n    </tr>\n    <tr>\n      <th>6</th>\n      <td>11</td>\n      <td>8</td>\n      <td>19</td>\n    </tr>\n  </tbody>\n</table>\n</div>"
     },
     "metadata": {},
     "execution_count": 5
    }
   ],
   "source": [
    "import pandas as pd\n",
    "X = [\n",
    "    [1,2],\n",
    "    [3,4],\n",
    "    [1,5],\n",
    "    [8,9],\n",
    "    [10,7],\n",
    "    [4,3],\n",
    "    [11,8]\n",
    "    ]\n",
    "X = np.array(X)\n",
    "n_features = 2\n",
    "df = pd.DataFrame(X, columns=[\"f\" + str(x) for x in range(n_features)])\n",
    "df['sum'] = df.sum(axis=1)\n",
    "df.sort_values(\"sum\", ascending=True, inplace=True)\n",
    "df"
   ]
  },
  {
   "cell_type": "code",
   "execution_count": 6,
   "metadata": {},
   "outputs": [
    {
     "output_type": "execute_result",
     "data": {
      "text/plain": "   f0  f1\n0   1   2\n2   1   5\n1   3   4\n5   4   3\n3   8   9\n4  10   7\n6  11   8",
      "text/html": "<div>\n<style scoped>\n    .dataframe tbody tr th:only-of-type {\n        vertical-align: middle;\n    }\n\n    .dataframe tbody tr th {\n        vertical-align: top;\n    }\n\n    .dataframe thead th {\n        text-align: right;\n    }\n</style>\n<table border=\"1\" class=\"dataframe\">\n  <thead>\n    <tr style=\"text-align: right;\">\n      <th></th>\n      <th>f0</th>\n      <th>f1</th>\n    </tr>\n  </thead>\n  <tbody>\n    <tr>\n      <th>0</th>\n      <td>1</td>\n      <td>2</td>\n    </tr>\n    <tr>\n      <th>2</th>\n      <td>1</td>\n      <td>5</td>\n    </tr>\n    <tr>\n      <th>1</th>\n      <td>3</td>\n      <td>4</td>\n    </tr>\n    <tr>\n      <th>5</th>\n      <td>4</td>\n      <td>3</td>\n    </tr>\n    <tr>\n      <th>3</th>\n      <td>8</td>\n      <td>9</td>\n    </tr>\n    <tr>\n      <th>4</th>\n      <td>10</td>\n      <td>7</td>\n    </tr>\n    <tr>\n      <th>6</th>\n      <td>11</td>\n      <td>8</td>\n    </tr>\n  </tbody>\n</table>\n</div>"
     },
     "metadata": {},
     "execution_count": 6
    }
   ],
   "source": [
    "df.drop(columns=\"sum\")"
   ]
  },
  {
   "cell_type": "code",
   "execution_count": 7,
   "metadata": {},
   "outputs": [
    {
     "output_type": "execute_result",
     "data": {
      "text/plain": "0    (2.984, 11.0]\n2    (2.984, 11.0]\n1    (2.984, 11.0]\n5    (2.984, 11.0]\n3     (11.0, 19.0]\n4     (11.0, 19.0]\n6     (11.0, 19.0]\nName: sum, dtype: category\nCategories (2, interval[float64]): [(2.984, 11.0] < (11.0, 19.0]]"
     },
     "metadata": {},
     "execution_count": 7
    }
   ],
   "source": [
    "pd.cut(df[\"sum\"], bins = 2)"
   ]
  },
  {
   "cell_type": "code",
   "execution_count": 8,
   "metadata": {
    "tags": []
   },
   "outputs": [
    {
     "output_type": "stream",
     "name": "stdout",
     "text": "init centroid [array([5.11618496, 2.36750671]), array([7.25706342, 6.33354829])]\ninitial centroid [array([5.11618496, 2.36750671]), array([7.25706342, 6.33354829])]\niteration 0\ncentroid [array([5.11618496, 2.36750671]), array([7.25706342, 6.33354829])]\n\n[1 2]\ncentroid, distance [5.11618496 2.36750671] 4.132558501023347\ncentroid, distance [7.25706342 6.33354829] 7.611207751683653\n\n[3 4]\ncentroid, distance [5.11618496 2.36750671] 2.672690240293604\ncentroid, distance [7.25706342 6.33354829] 4.854692224893196\n\n[1 5]\ncentroid, distance [5.11618496 2.36750671] 4.886000361236525\ncentroid, distance [7.25706342 6.33354829] 6.3975928066349645\n\n[8 9]\ncentroid, distance [5.11618496 2.36750671] 7.232313358187099\ncentroid, distance [7.25706342 6.33354829] 2.768017250002466\n\n[10  7]\ncentroid, distance [5.11618496 2.36750671] 6.73139239036232\ncentroid, distance [7.25706342 6.33354829] 2.822739617552929\n\n[4 3]\ncentroid, distance [5.11618496 2.36750671] 1.2829328203646424\ncentroid, distance [7.25706342 6.33354829] 4.660580041640125\n\n[11  8]\ncentroid, distance [5.11618496 2.36750671] 8.145198597401903\ncentroid, distance [7.25706342 6.33354829] 4.097149683386904\ncluster member\ncluster0 [array([1, 2]), array([3, 4]), array([1, 5]), array([4, 3])]\ncluster1 [array([8, 9]), array([10,  7]), array([11,  8])]\nnew centroid [array([2.25, 3.5 ]), array([9.66666667, 8.        ])]\ntotal diffs: 6.011528974371867\n\niteration 1\ncentroid [array([2.25, 3.5 ]), array([9.66666667, 8.        ])]\n\n[1 2]\ncentroid, distance [2.25 3.5 ] 1.9525624189766635\ncentroid, distance [9.66666667 8.        ] 10.540925533894598\n\n[3 4]\ncentroid, distance [2.25 3.5 ] 0.9013878188659973\ncentroid, distance [9.66666667 8.        ] 7.7746025264604\n\n[1 5]\ncentroid, distance [2.25 3.5 ] 1.9525624189766635\ncentroid, distance [9.66666667 8.        ] 9.171210994798402\n\n[8 9]\ncentroid, distance [2.25 3.5 ] 7.956915231419774\ncentroid, distance [9.66666667 8.        ] 1.9436506316150997\n\n[10  7]\ncentroid, distance [2.25 3.5 ] 8.503675675847475\ncentroid, distance [9.66666667 8.        ] 1.05409255338946\n\n[4 3]\ncentroid, distance [2.25 3.5 ] 1.8200274723201295\ncentroid, distance [9.66666667 8.        ] 7.557189365836423\n\n[11  8]\ncentroid, distance [2.25 3.5 ] 9.839334327077214\ncentroid, distance [9.66666667 8.        ] 1.333333333333334\ncluster member\ncluster0 [array([1, 2]), array([3, 4]), array([1, 5]), array([4, 3])]\ncluster1 [array([8, 9]), array([10,  7]), array([11,  8])]\nnew centroid [array([2.25, 3.5 ]), array([9.66666667, 8.        ])]\ntotal diffs: 0.0\n[[array([1, 2]), array([3, 4]), array([1, 5]), array([4, 3])], [array([8, 9]), array([10,  7]), array([11,  8])]]\ncluster0 [array([1, 2]), array([3, 4]), array([1, 5]), array([4, 3])]\ncluster1 [array([8, 9]), array([10,  7]), array([11,  8])]\n"
    },
    {
     "output_type": "execute_result",
     "data": {
      "text/plain": "[0, 0, 0, 1, 1, 0, 1]"
     },
     "metadata": {},
     "execution_count": 8
    }
   ],
   "source": [
    "from kmeans import KMeans\n",
    "\n",
    "model_euclidean = KMeans(k=2)\n",
    "model_euclidean.train(X)"
   ]
  },
  {
   "cell_type": "code",
   "execution_count": 9,
   "metadata": {},
   "outputs": [
    {
     "output_type": "execute_result",
     "data": {
      "text/plain": "[0, 0, 0, 1, 1, 0, 1]"
     },
     "metadata": {},
     "execution_count": 9
    }
   ],
   "source": [
    "model_euclidean.predict(X)"
   ]
  },
  {
   "cell_type": "code",
   "execution_count": 10,
   "metadata": {
    "tags": []
   },
   "outputs": [
    {
     "output_type": "stream",
     "name": "stdout",
     "text": "init centroid [array([8.2144217 , 3.13398003]), array([8.4262806 , 2.60103286]), array([4.03359012, 2.46670862])]\ninitial centroid [array([8.2144217 , 3.13398003]), array([8.4262806 , 2.60103286]), array([4.03359012, 2.46670862])]\niteration 0\ncentroid [array([8.2144217 , 3.13398003]), array([8.4262806 , 2.60103286]), array([4.03359012, 2.46670862])]\n\n[1 2]\ncentroid, distance [8.2144217  3.13398003] 7.3029987834532335\ncentroid, distance [8.4262806  2.60103286] 7.450562669127691\ncentroid, distance [4.03359012 2.46670862] 3.0692810108734925\n\n[3 4]\ncentroid, distance [8.2144217  3.13398003] 5.285847548277922\ncentroid, distance [8.4262806  2.60103286] 5.603715752639615\ncentroid, distance [4.03359012 2.46670862] 1.8491324956175346\n\n[1 5]\ncentroid, distance [8.2144217  3.13398003] 7.451839441778555\ncentroid, distance [8.4262806  2.60103286] 7.804145496245267\ncentroid, distance [4.03359012 2.46670862] 3.9522441992632635\n\n[8 9]\ncentroid, distance [8.2144217  3.13398003] 5.869937562268147\ncentroid, distance [8.4262806  2.60103286] 6.413150209595668\ncentroid, distance [4.03359012 2.46670862] 7.643055909971419\n\n[10  7]\ncentroid, distance [8.2144217  3.13398003] 4.258450454982423\ncentroid, distance [8.4262806  2.60103286] 4.671991506912692\ncentroid, distance [4.03359012 2.46670862] 7.493248805183714\n\n[4 3]\ncentroid, distance [8.2144217  3.13398003] 4.216550835688154\ncentroid, distance [8.4262806  2.60103286] 4.444224876319272\ncentroid, distance [4.03359012 2.46670862] 0.5343481945957979\n\n[11  8]\ncentroid, distance [8.2144217  3.13398003] 5.606924006422609\ncentroid, distance [8.4262806  2.60103286] 5.9810431962622905\ncentroid, distance [4.03359012 2.46670862] 8.89652629893866\ncluster member\ncluster0 [array([8, 9]), array([10,  7]), array([11,  8])]\ncluster1 []\ncluster2 [array([1, 2]), array([3, 4]), array([1, 5]), array([4, 3])]\nnew centroid [array([9.66666667, 8.        ]), array([10.60778079,  1.69633499]), array([2.25, 3.5 ])]\ntotal diffs: 9.501045310094046\n\niteration 1\ncentroid [array([9.66666667, 8.        ]), array([10.60778079,  1.69633499]), array([2.25, 3.5 ])]\n\n[1 2]\ncentroid, distance [9.66666667 8.        ] 10.540925533894598\ncentroid, distance [10.60778079  1.69633499] 9.612578438769976\ncentroid, distance [2.25 3.5 ] 1.9525624189766635\n\n[3 4]\ncentroid, distance [9.66666667 8.        ] 7.7746025264604\ncentroid, distance [10.60778079  1.69633499] 7.948911944066384\ncentroid, distance [2.25 3.5 ] 0.9013878188659973\n\n[1 5]\ncentroid, distance [9.66666667 8.        ] 9.171210994798402\ncentroid, distance [10.60778079  1.69633499] 10.159904246147047\ncentroid, distance [2.25 3.5 ] 1.9525624189766635\n\n[8 9]\ncentroid, distance [9.66666667 8.        ] 1.9436506316150997\ncentroid, distance [10.60778079  1.69633499] 7.755259068984135\ncentroid, distance [2.25 3.5 ] 7.956915231419774\n\n[10  7]\ncentroid, distance [9.66666667 8.        ] 1.05409255338946\ncentroid, distance [10.60778079  1.69633499] 5.338376158931478\ncentroid, distance [2.25 3.5 ] 8.503675675847475\n\n[4 3]\ncentroid, distance [9.66666667 8.        ] 7.557189365836423\ncentroid, distance [10.60778079  1.69633499] 6.73515474863903\ncentroid, distance [2.25 3.5 ] 1.8200274723201295\n\n[11  8]\ncentroid, distance [9.66666667 8.        ] 1.333333333333334\ncentroid, distance [10.60778079  1.69633499] 6.31585532139202\ncentroid, distance [2.25 3.5 ] 9.839334327077214\ncluster member\ncluster0 [array([8, 9]), array([10,  7]), array([11,  8])]\ncluster1 []\ncluster2 [array([1, 2]), array([3, 4]), array([1, 5]), array([4, 3])]\nnew centroid [array([9.66666667, 8.        ]), array([10.80545574,  2.97244068]), array([2.25, 3.5 ])]\ntotal diffs: 1.2913253283750532\n\niteration 2\ncentroid [array([9.66666667, 8.        ]), array([10.80545574,  2.97244068]), array([2.25, 3.5 ])]\n\n[1 2]\ncentroid, distance [9.66666667 8.        ] 10.540925533894598\ncentroid, distance [10.80545574  2.97244068] 9.853557892764112\ncentroid, distance [2.25 3.5 ] 1.9525624189766635\n\n[3 4]\ncentroid, distance [9.66666667 8.        ] 7.7746025264604\ncentroid, distance [10.80545574  2.97244068] 7.8728023903164805\ncentroid, distance [2.25 3.5 ] 0.9013878188659973\n\n[1 5]\ncentroid, distance [9.66666667 8.        ] 9.171210994798402\ncentroid, distance [10.80545574  2.97244068] 10.012889647075886\ncentroid, distance [2.25 3.5 ] 1.9525624189766635\n\n[8 9]\ncentroid, distance [9.66666667 8.        ] 1.9436506316150997\ncentroid, distance [10.80545574  2.97244068] 6.648462476713714\ncentroid, distance [2.25 3.5 ] 7.956915231419774\n\n[10  7]\ncentroid, distance [9.66666667 8.        ] 1.05409255338946\ncentroid, distance [10.80545574  2.97244068] 4.107309709599277\ncentroid, distance [2.25 3.5 ] 8.503675675847475\n\n[4 3]\ncentroid, distance [9.66666667 8.        ] 7.557189365836423\ncentroid, distance [10.80545574  2.97244068] 6.805511542134214\ncentroid, distance [2.25 3.5 ] 1.8200274723201295\n\n[11  8]\ncentroid, distance [9.66666667 8.        ] 1.333333333333334\ncentroid, distance [10.80545574  2.97244068] 5.031321915364587\ncentroid, distance [2.25 3.5 ] 9.839334327077214\ncluster member\ncluster0 [array([8, 9]), array([10,  7]), array([11,  8])]\ncluster1 []\ncluster2 [array([1, 2]), array([3, 4]), array([1, 5]), array([4, 3])]\nnew centroid [array([9.66666667, 8.        ]), array([8.64806118, 5.98049903]), array([2.25, 3.5 ])]\ntotal diffs: 3.701724778703815\n\niteration 3\ncentroid [array([9.66666667, 8.        ]), array([8.64806118, 5.98049903]), array([2.25, 3.5 ])]\n\n[1 2]\ncentroid, distance [9.66666667 8.        ] 10.540925533894598\ncentroid, distance [8.64806118 5.98049903] 8.621903055523024\ncentroid, distance [2.25 3.5 ] 1.9525624189766635\n\n[3 4]\ncentroid, distance [9.66666667 8.        ] 7.7746025264604\ncentroid, distance [8.64806118 5.98049903] 5.985229442073555\ncentroid, distance [2.25 3.5 ] 0.9013878188659973\n\n[1 5]\ncentroid, distance [9.66666667 8.        ] 9.171210994798402\ncentroid, distance [8.64806118 5.98049903] 7.710656141517622\ncentroid, distance [2.25 3.5 ] 1.9525624189766635\n\n[8 9]\ncentroid, distance [9.66666667 8.        ] 1.9436506316150997\ncentroid, distance [8.64806118 5.98049903] 3.088263170915214\ncentroid, distance [2.25 3.5 ] 7.956915231419774\n\n[10  7]\ncentroid, distance [9.66666667 8.        ] 1.05409255338946\ncentroid, distance [8.64806118 5.98049903] 1.693257455245144\ncentroid, distance [2.25 3.5 ] 8.503675675847475\n\n[4 3]\ncentroid, distance [9.66666667 8.        ] 7.557189365836423\ncentroid, distance [8.64806118 5.98049903] 5.52158013368638\ncentroid, distance [2.25 3.5 ] 1.8200274723201295\n\n[11  8]\ncentroid, distance [9.66666667 8.        ] 1.333333333333334\ncentroid, distance [8.64806118 5.98049903] 3.100000064105918\ncentroid, distance [2.25 3.5 ] 9.839334327077214\ncluster member\ncluster0 [array([8, 9]), array([10,  7]), array([11,  8])]\ncluster1 []\ncluster2 [array([1, 2]), array([3, 4]), array([1, 5]), array([4, 3])]\nnew centroid [array([9.66666667, 8.        ]), array([9.89340045, 5.2950491 ]), array([2.25, 3.5 ])]\ntotal diffs: 1.421517320736025\n\niteration 4\ncentroid [array([9.66666667, 8.        ]), array([9.89340045, 5.2950491 ]), array([2.25, 3.5 ])]\n\n[1 2]\ncentroid, distance [9.66666667 8.        ] 10.540925533894598\ncentroid, distance [9.89340045 5.2950491 ] 9.484193168784833\ncentroid, distance [2.25 3.5 ] 1.9525624189766635\n\n[3 4]\ncentroid, distance [9.66666667 8.        ] 7.7746025264604\ncentroid, distance [9.89340045 5.2950491 ] 7.013994716119452\ncentroid, distance [2.25 3.5 ] 0.9013878188659973\n\n[1 5]\ncentroid, distance [9.66666667 8.        ] 9.171210994798402\ncentroid, distance [9.89340045 5.2950491 ] 8.898293401516055\ncentroid, distance [2.25 3.5 ] 1.9525624189766635\n\n[8 9]\ncentroid, distance [9.66666667 8.        ] 1.9436506316150997\ncentroid, distance [9.89340045 5.2950491 ] 4.160724265686009\ncentroid, distance [2.25 3.5 ] 7.956915231419774\n\n[10  7]\ncentroid, distance [9.66666667 8.        ] 1.05409255338946\ncentroid, distance [9.89340045 5.2950491 ] 1.7082801393436802\ncentroid, distance [2.25 3.5 ] 8.503675675847475\n\n[4 3]\ncentroid, distance [9.66666667 8.        ] 7.557189365836423\ncentroid, distance [9.89340045 5.2950491 ] 6.324509402906714\ncentroid, distance [2.25 3.5 ] 1.8200274723201295\n\n[11  8]\ncentroid, distance [9.66666667 8.        ] 1.333333333333334\ncentroid, distance [9.89340045 5.2950491 ] 2.922554010097918\ncentroid, distance [2.25 3.5 ] 9.839334327077214\ncluster member\ncluster0 [array([8, 9]), array([10,  7]), array([11,  8])]\ncluster1 []\ncluster2 [array([1, 2]), array([3, 4]), array([1, 5]), array([4, 3])]\nnew centroid [array([9.66666667, 8.        ]), array([9.87719045, 7.31068014]), array([2.25, 3.5 ])]\ntotal diffs: 2.0156962205286257\n\niteration 5\ncentroid [array([9.66666667, 8.        ]), array([9.87719045, 7.31068014]), array([2.25, 3.5 ])]\n\n[1 2]\ncentroid, distance [9.66666667 8.        ] 10.540925533894598\ncentroid, distance [9.87719045 7.31068014] 10.344459085110778\ncentroid, distance [2.25 3.5 ] 1.9525624189766635\n\n[3 4]\ncentroid, distance [9.66666667 8.        ] 7.7746025264604\ncentroid, distance [9.87719045 7.31068014] 7.6325848451719\ncentroid, distance [2.25 3.5 ] 0.9013878188659973\n\n[1 5]\ncentroid, distance [9.66666667 8.        ] 9.171210994798402\ncentroid, distance [9.87719045 7.31068014] 9.172990402276643\ncentroid, distance [2.25 3.5 ] 1.9525624189766635\n\n[8 9]\ncentroid, distance [9.66666667 8.        ] 1.9436506316150997\ncentroid, distance [9.87719045 7.31068014] 2.525400078559811\ncentroid, distance [2.25 3.5 ] 7.956915231419774\n\n[10  7]\ncentroid, distance [9.66666667 8.        ] 1.05409255338946\ncentroid, distance [9.87719045 7.31068014] 0.3340723519968797\ncentroid, distance [2.25 3.5 ] 8.503675675847475\n\n[4 3]\ncentroid, distance [9.66666667 8.        ] 7.557189365836423\ncentroid, distance [9.87719045 7.31068014] 7.288575362067484\ncentroid, distance [2.25 3.5 ] 1.8200274723201295\n\n[11  8]\ncentroid, distance [9.66666667 8.        ] 1.333333333333334\ncentroid, distance [9.87719045 7.31068014] 1.3175215990552702\ncentroid, distance [2.25 3.5 ] 9.839334327077214\ncluster member\ncluster0 [array([8, 9])]\ncluster1 [array([10,  7]), array([11,  8])]\ncluster2 [array([1, 2]), array([3, 4]), array([1, 5]), array([4, 3])]\nnew centroid [array([8., 9.]), array([10.5,  7.5]), array([2.25, 3.5 ])]\ntotal diffs: 2.594598978393046\n\niteration 6\ncentroid [array([8., 9.]), array([10.5,  7.5]), array([2.25, 3.5 ])]\n\n[1 2]\ncentroid, distance [8. 9.] 9.899494936611665\ncentroid, distance [10.5  7.5] 10.977249200050075\ncentroid, distance [2.25 3.5 ] 1.9525624189766635\n\n[3 4]\ncentroid, distance [8. 9.] 7.0710678118654755\ncentroid, distance [10.5  7.5] 8.276472678623424\ncentroid, distance [2.25 3.5 ] 0.9013878188659973\n\n[1 5]\ncentroid, distance [8. 9.] 8.06225774829855\ncentroid, distance [10.5  7.5] 9.82344135219425\ncentroid, distance [2.25 3.5 ] 1.9525624189766635\n\n[8 9]\ncentroid, distance [8. 9.] 0.0\ncentroid, distance [10.5  7.5] 2.9154759474226504\ncentroid, distance [2.25 3.5 ] 7.956915231419774\n\n[10  7]\ncentroid, distance [8. 9.] 2.8284271247461903\ncentroid, distance [10.5  7.5] 0.7071067811865476\ncentroid, distance [2.25 3.5 ] 8.503675675847475\n\n[4 3]\ncentroid, distance [8. 9.] 7.211102550927978\ncentroid, distance [10.5  7.5] 7.905694150420948\ncentroid, distance [2.25 3.5 ] 1.8200274723201295\n\n[11  8]\ncentroid, distance [8. 9.] 3.1622776601683795\ncentroid, distance [10.5  7.5] 0.7071067811865476\ncentroid, distance [2.25 3.5 ] 9.839334327077214\ncluster member\ncluster0 [array([8, 9])]\ncluster1 [array([10,  7]), array([11,  8])]\ncluster2 [array([1, 2]), array([3, 4]), array([1, 5]), array([4, 3])]\nnew centroid [array([8., 9.]), array([10.5,  7.5]), array([2.25, 3.5 ])]\ntotal diffs: 0.0\n[[array([8, 9])], [array([10,  7]), array([11,  8])], [array([1, 2]), array([3, 4]), array([1, 5]), array([4, 3])]]\ncluster0 [array([8, 9])]\ncluster1 [array([10,  7]), array([11,  8])]\ncluster2 [array([1, 2]), array([3, 4]), array([1, 5]), array([4, 3])]\n"
    },
    {
     "output_type": "execute_result",
     "data": {
      "text/plain": "[2, 2, 2, 0, 1, 2, 1]"
     },
     "metadata": {},
     "execution_count": 10
    }
   ],
   "source": [
    "model_euclidean_k3 = KMeans(k=5)\n",
    "model_euclidean_k3.train(X)"
   ]
  },
  {
   "cell_type": "code",
   "execution_count": 11,
   "metadata": {
    "tags": []
   },
   "outputs": [
    {
     "output_type": "stream",
     "name": "stdout",
     "text": "initial centroid [array([2.25, 3.5 ]), array([9.66666667, 8.        ])]\niteration 0\ncentroid [array([2.25, 3.5 ]), array([9.66666667, 8.        ])]\n\n[1 2]\ncentroid, distance [2.25 3.5 ] 1.9525624189766635\ncentroid, distance [9.66666667 8.        ] 10.540925533894598\n\n[3 4]\ncentroid, distance [2.25 3.5 ] 0.9013878188659973\ncentroid, distance [9.66666667 8.        ] 7.7746025264604\n\n[1 5]\ncentroid, distance [2.25 3.5 ] 1.9525624189766635\ncentroid, distance [9.66666667 8.        ] 9.171210994798402\n\n[8 9]\ncentroid, distance [2.25 3.5 ] 7.956915231419774\ncentroid, distance [9.66666667 8.        ] 1.9436506316150997\n\n[10  7]\ncentroid, distance [2.25 3.5 ] 8.503675675847475\ncentroid, distance [9.66666667 8.        ] 1.05409255338946\n\n[4 3]\ncentroid, distance [2.25 3.5 ] 1.8200274723201295\ncentroid, distance [9.66666667 8.        ] 7.557189365836423\n\n[11  8]\ncentroid, distance [2.25 3.5 ] 9.839334327077214\ncentroid, distance [9.66666667 8.        ] 1.333333333333334\ncluster member\ncluster0 [array([1, 2]), array([3, 4]), array([1, 5]), array([4, 3])]\ncluster1 [array([8, 9]), array([10,  7]), array([11,  8])]\nnew centroid [array([2.25, 3.5 ]), array([9.66666667, 8.        ])]\ntotal diffs: 0.0\n[[array([1, 2]), array([3, 4]), array([1, 5]), array([4, 3])], [array([8, 9]), array([10,  7]), array([11,  8])]]\ncluster0 [array([1, 2]), array([3, 4]), array([1, 5]), array([4, 3])]\ncluster1 [array([8, 9]), array([10,  7]), array([11,  8])]\n"
    },
    {
     "output_type": "execute_result",
     "data": {
      "text/plain": "[0, 0, 0, 1, 1, 0, 1]"
     },
     "metadata": {},
     "execution_count": 11
    }
   ],
   "source": [
    "model_euclidean_naive_shard = KMeans(k=2, init_centroid=\"naive_sharding\")\n",
    "model_euclidean_naive_shard.train(X)"
   ]
  }
 ]
}